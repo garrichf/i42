{
 "cells": [
  {
   "cell_type": "code",
   "execution_count": null,
   "metadata": {},
   "outputs": [],
   "source": [
    "!pip install -q ultralytics\n"
   ]
  },
  {
   "cell_type": "code",
   "execution_count": null,
   "metadata": {},
   "outputs": [],
   "source": [
    "import os\n",
    "import numpy as np\n",
    "import matplotlib.pyplot as plt\n",
    "from ultralytics import YOLO\n",
    "from PIL import Image\n",
    "import random"
   ]
  },
  {
   "cell_type": "markdown",
   "metadata": {},
   "source": [
    "# Set up YOLOv8 model\n"
   ]
  },
  {
   "cell_type": "code",
   "execution_count": null,
   "metadata": {},
   "outputs": [],
   "source": [
    "model = YOLO('yolov8n.pt')  # Load the pre-trained YOLOv8 model\n"
   ]
  },
  {
   "cell_type": "markdown",
   "metadata": {},
   "source": [
    "# Define paths\n"
   ]
  },
  {
   "cell_type": "code",
   "execution_count": null,
   "metadata": {},
   "outputs": [],
   "source": [
    "image_path = 'fall_dataset/'\n",
    "fall_path = os.path.join(image_path, 'fall')\n",
    "no_fall_path = os.path.join(image_path, 'no_fall')"
   ]
  },
  {
   "cell_type": "markdown",
   "metadata": {},
   "source": [
    "# Function to predict fall\n"
   ]
  },
  {
   "cell_type": "code",
   "execution_count": null,
   "metadata": {},
   "outputs": [],
   "source": [
    "def predict_fall(image_path):\n",
    "    results = model(image_path)\n",
    "    for r in results:\n",
    "        for box in r.boxes:\n",
    "            if box.cls == 0:  # person detected\n",
    "                x1, y1, x2, y2 = box.xyxy[0]\n",
    "                aspect_ratio = (y2 - y1) / (x2 - x1)\n",
    "                if aspect_ratio < 1:  # person is wider than tall, might indicate a fall\n",
    "                    return \"fall\"\n",
    "    return \"no_fall\""
   ]
  },
  {
   "cell_type": "markdown",
   "metadata": {},
   "source": [
    "# Function to evaluate model\n",
    "\n"
   ]
  },
  {
   "cell_type": "code",
   "execution_count": null,
   "metadata": {},
   "outputs": [],
   "source": [
    "def evaluate_model(test_data):\n",
    "    correct = 0\n",
    "    total = len(test_data)\n",
    "    for img_path, true_label in test_data:\n",
    "        pred_label = predict_fall(img_path)\n",
    "        if pred_label == true_label:\n",
    "            correct += 1\n",
    "    return correct / total\n"
   ]
  },
  {
   "cell_type": "markdown",
   "metadata": {},
   "source": [
    "# Prepare validation data\n"
   ]
  },
  {
   "cell_type": "code",
   "execution_count": null,
   "metadata": {},
   "outputs": [],
   "source": [
    "validation_data = []\n",
    "for img in os.listdir(fall_path):\n",
    "    validation_data.append((os.path.join(fall_path, img), 'fall'))\n",
    "for img in os.listdir(no_fall_path):\n",
    "    validation_data.append((os.path.join(no_fall_path, img), 'no_fall'))\n"
   ]
  },
  {
   "cell_type": "code",
   "execution_count": null,
   "metadata": {},
   "outputs": [],
   "source": [
    "# Shuffle the validation data\n",
    "random.shuffle(validation_data)\n",
    "\n",
    "# Evaluate the model\n",
    "accuracy = evaluate_model(validation_data)\n",
    "print(f'Accuracy: {accuracy:.2f}')\n",
    "\n",
    "# Visualization function\n",
    "def get_label_color(pred_label, true_label):\n",
    "    return 'black' if pred_label == true_label else 'red'\n",
    "\n",
    "# Visualize predictions\n",
    "plt.figure(figsize=(20, 30))\n",
    "for i, (image_path, true_label) in enumerate(validation_data[:30]):\n",
    "    ax = plt.subplot(6, 5, i+1)\n",
    "    plt.xticks([])\n",
    "    plt.yticks([])\n",
    "    plt.grid(False)\n",
    "    \n",
    "    image = Image.open(image_path)\n",
    "    plt.imshow(image)\n",
    "    \n",
    "    pred_label = predict_fall(image_path)\n",
    "    color = get_label_color(pred_label, true_label)\n",
    "    ax.xaxis.label.set_color(color)\n",
    "    plt.xlabel(f'Pred: {pred_label}\\nTrue: {true_label}')\n",
    "\n",
    "plt.tight_layout()\n",
    "plt.show()\n",
    "\n",
    "print(f'Accuracy: {accuracy:.2f}')"
   ]
  }
 ],
 "metadata": {
  "kernelspec": {
   "display_name": "Python 3",
   "language": "python",
   "name": "python3"
  },
  "language_info": {
   "codemirror_mode": {
    "name": "ipython",
    "version": 3
   },
   "file_extension": ".py",
   "mimetype": "text/x-python",
   "name": "python",
   "nbconvert_exporter": "python",
   "pygments_lexer": "ipython3",
   "version": "3.8.10"
  }
 },
 "nbformat": 4,
 "nbformat_minor": 4
}
